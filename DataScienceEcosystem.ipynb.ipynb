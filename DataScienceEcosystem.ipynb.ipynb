{
 "cells": [
  {
   "cell_type": "markdown",
   "id": "e05ab432-390c-472b-b321-a6e47fd09c21",
   "metadata": {
    "tags": []
   },
   "source": [
    "# Data Science Tools and Ecosystem"
   ]
  },
  {
   "cell_type": "markdown",
   "id": "9cdec6fc-9c1e-4edc-8ecb-091864d57d14",
   "metadata": {},
   "source": [
    "## In this notebook, Data Science Tools and Ecosystem are summarized."
   ]
  },
  {
   "cell_type": "markdown",
   "id": "4901aa97-1b46-4dbd-bea0-e9b27aa8d57e",
   "metadata": {},
   "source": [
    "### Objectives:\n",
    "* List of the popular languages that Data Scientists\n",
    "* List of the commonly used libraries used by Data Scientists\n",
    "* List of the Data Science Tools"
   ]
  },
  {
   "cell_type": "markdown",
   "id": "9dd1bdda-3d55-4d4e-8b15-e4c38939b700",
   "metadata": {},
   "source": [
    "### Some of the popular languages that Data Scientists use are:\n",
    "1. Python\n",
    "2. R\n",
    "3. SQL"
   ]
  },
  {
   "cell_type": "markdown",
   "id": "529bf043-c01c-4bda-85e5-27e7d82b93a8",
   "metadata": {},
   "source": [
    "### Some of the commonly used libraries used by Data Scientists include: |\n",
    "1. Pandas \n",
    "2. NumPy\n",
    "3. SciPy"
   ]
  },
  {
   "cell_type": "markdown",
   "id": "dfb10008-9c02-4cfe-9b47-599c48828a7d",
   "metadata": {},
   "source": [
    "| Data Science Tools |\n",
    "| ------ |\n",
    "| RStudio |\n",
    "| Apache Spark |\n",
    "| TensorFlow|"
   ]
  },
  {
   "cell_type": "markdown",
   "id": "ca56c663-3be3-4a11-bbe6-45fcbbb4619d",
   "metadata": {},
   "source": [
    "### Below are a few examples of evaluating arithmetic expressions in Python"
   ]
  },
  {
   "cell_type": "code",
   "execution_count": 9,
   "id": "ed66325c-a09b-4327-a317-0cbb08465e34",
   "metadata": {
    "tags": []
   },
   "outputs": [
    {
     "data": {
      "text/plain": [
       "17"
      ]
     },
     "execution_count": 9,
     "metadata": {},
     "output_type": "execute_result"
    }
   ],
   "source": [
    "#This a simple arithmetic expression to mutiply then add integers\n",
    "(3*4)+5"
   ]
  },
  {
   "cell_type": "code",
   "execution_count": 10,
   "id": "f4b66770-d545-4694-a9cc-77bf25e9739f",
   "metadata": {
    "tags": []
   },
   "outputs": [
    {
     "data": {
      "text/plain": [
       "3.3333333333333335"
      ]
     },
     "execution_count": 10,
     "metadata": {},
     "output_type": "execute_result"
    }
   ],
   "source": [
    "# This will convert 200 minutes to hours by diving by 60\n",
    "200/60"
   ]
  },
  {
   "cell_type": "markdown",
   "id": "2197557b-c16f-47ac-87eb-93ab5076eb7e",
   "metadata": {},
   "source": [
    "## Author\n",
    "Zhi"
   ]
  }
 ],
 "metadata": {
  "kernelspec": {
   "display_name": "Python",
   "language": "python",
   "name": "conda-env-python-py"
  },
  "language_info": {
   "codemirror_mode": {
    "name": "ipython",
    "version": 3
   },
   "file_extension": ".py",
   "mimetype": "text/x-python",
   "name": "python",
   "nbconvert_exporter": "python",
   "pygments_lexer": "ipython3",
   "version": "3.7.12"
  }
 },
 "nbformat": 4,
 "nbformat_minor": 5
}
